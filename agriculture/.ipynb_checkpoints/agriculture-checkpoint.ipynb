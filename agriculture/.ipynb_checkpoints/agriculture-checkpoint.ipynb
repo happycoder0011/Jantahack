{
 "cells": [
  {
   "cell_type": "code",
   "execution_count": 47,
   "metadata": {},
   "outputs": [],
   "source": [
    "import numpy as np\n",
    "import pandas as pd\n",
    "from sklearn.metrics import *\n",
    "import matplotlib.pyplot as plt\n",
    "import matplotlib\n",
    "from sklearn.model_selection import train_test_split"
   ]
  },
  {
   "cell_type": "code",
   "execution_count": 48,
   "metadata": {},
   "outputs": [],
   "source": [
    "# Import Classifiers\n",
    "from sklearn.linear_model import LogisticRegression\n",
    "from sklearn.ensemble import RandomForestClassifier\n",
    "from sklearn.linear_model import Perceptron\n",
    "from sklearn.linear_model import SGDClassifier\n",
    "from sklearn.tree import DecisionTreeClassifier\n",
    "from sklearn.neighbors import KNeighborsClassifier\n",
    "from sklearn.svm import SVC, LinearSVC\n",
    "from sklearn.naive_bayes import GaussianNB"
   ]
  },
  {
   "cell_type": "code",
   "execution_count": 56,
   "metadata": {},
   "outputs": [
    {
     "name": "stdout",
     "output_type": "stream",
     "text": [
      "88858 10\n",
      "59310 9\n",
      "          ID  Estimated_Insects_Count  Crop_Type  Soil_Type  \\\n",
      "0  F00000001                      188          1          0   \n",
      "1  F00000003                      209          1          0   \n",
      "2  F00000004                      257          1          0   \n",
      "3  F00000005                      257          1          1   \n",
      "4  F00000006                      342          1          0   \n",
      "5  F00000008                      448          0          1   \n",
      "6  F00000009                      448          0          1   \n",
      "7  F00000010                      577          1          0   \n",
      "8  F00000012                      731          0          0   \n",
      "9  F00000020                     1132          1          0   \n",
      "\n",
      "   Pesticide_Use_Category  Number_Doses_Week  Number_Weeks_Used  \\\n",
      "0                       1                  0                0.0   \n",
      "1                       1                  0                0.0   \n",
      "2                       1                  0                0.0   \n",
      "3                       1                  0                0.0   \n",
      "4                       1                  0                0.0   \n",
      "5                       1                  0                0.0   \n",
      "6                       1                  0                0.0   \n",
      "7                       1                  0                0.0   \n",
      "8                       1                  0                0.0   \n",
      "9                       1                  0                0.0   \n",
      "\n",
      "   Number_Weeks_Quit  Season  Crop_Damage  \n",
      "0                  0       1            0  \n",
      "1                  0       2            1  \n",
      "2                  0       2            1  \n",
      "3                  0       2            1  \n",
      "4                  0       2            1  \n",
      "5                  0       2            1  \n",
      "6                  0       2            1  \n",
      "7                  0       1            2  \n",
      "8                  0       2            0  \n",
      "9                  0       1            2  \n"
     ]
    }
   ],
   "source": [
    "#loading data set\n",
    "test=pd.read_csv(\"./test.csv\")\n",
    "train=pd.read_csv(\"./train.csv\")\n",
    "train_m,train_n=train.shape\n",
    "print(train_m,train_n)\n",
    "train[\"Number_Weeks_Used\"].fillna(0, inplace = True)\n",
    "test[\"Number_Weeks_Used\"].fillna(0, inplace = True)\n",
    "test_m,test_n = test.shape\n",
    "print(test_m,test_n)\n",
    "print(train.head(10))"
   ]
  },
  {
   "cell_type": "code",
   "execution_count": 57,
   "metadata": {},
   "outputs": [
    {
     "name": "stdout",
     "output_type": "stream",
     "text": [
      "0        0\n",
      "1        1\n",
      "2        1\n",
      "3        1\n",
      "4        1\n",
      "        ..\n",
      "88853    0\n",
      "88854    0\n",
      "88855    0\n",
      "88856    0\n",
      "88857    0\n",
      "Name: Crop_Damage, Length: 88858, dtype: int64\n"
     ]
    }
   ],
   "source": [
    "#data preprocessing \n",
    " \n",
    "X = train.drop(columns=[\"ID\",\"Crop_Damage\"])\n",
    "y = train[\"Crop_Damage\"]\n",
    "print(y)"
   ]
  },
  {
   "cell_type": "code",
   "execution_count": 58,
   "metadata": {},
   "outputs": [],
   "source": [
    "X_train, X_vald, y_train, y_vald = train_test_split(X, y, test_size = 0.20)"
   ]
  },
  {
   "cell_type": "code",
   "execution_count": 59,
   "metadata": {},
   "outputs": [],
   "source": [
    "from xgboost import XGBClassifier"
   ]
  },
  {
   "cell_type": "code",
   "execution_count": 60,
   "metadata": {},
   "outputs": [
    {
     "name": "stdout",
     "output_type": "stream",
     "text": [
      "Accuracy: 0.8422237227098807\n"
     ]
    }
   ],
   "source": [
    "#XGboost\n",
    "classifier2 = XGBClassifier(objective =\"multi:softmax\")\n",
    "classifier2.fit(X_train, y_train)\n",
    "\n",
    "y_pred2 = classifier2.predict(X_vald)\n",
    "\n",
    "result2 = accuracy_score(y_vald,y_pred2)\n",
    "print(\"Accuracy:\",result2)\n"
   ]
  },
  {
   "cell_type": "code",
   "execution_count": 61,
   "metadata": {},
   "outputs": [],
   "source": [
    "#submission 2\n",
    "X_test = test.drop(columns=[\"ID\"])\n",
    "y_test = classifier2.predict(X_test)\n",
    "y_test = pd.DataFrame(y_test)\n",
    "y_test.to_csv(\"submission2.csv\",index=False)\n"
   ]
  },
  {
   "cell_type": "code",
   "execution_count": 24,
   "metadata": {},
   "outputs": [
    {
     "name": "stdout",
     "output_type": "stream",
     "text": [
      "Accuracy: 0.8471753319828944\n"
     ]
    }
   ],
   "source": [
    "#XGboost\n",
    "# error= [\"rmse\",\"mae\",\"logloss\",\"error\"]  eval_metric --no use\n",
    "# max_leaf=1000 meax_leaf_nodes=i*100 --no use\n",
    "# depth=10 useful best at 6\n",
    "# gam=10 no use\n",
    "\n",
    "classifier2 = XGBClassifier(max_depth=6)\n",
    "classifier2.fit(X_train, y_train)\n",
    "\n",
    "y_pred2 = classifier2.predict(X_vald)\n",
    "\n",
    "result2 = accuracy_score(y_vald,y_pred2)\n",
    "print(\"Accuracy:\",result2)\n",
    "\n",
    "#Accuracy: 0.8471753319828944"
   ]
  },
  {
   "cell_type": "code",
   "execution_count": 20,
   "metadata": {},
   "outputs": [],
   "source": [
    "#submission 3\n",
    "X_test = test.drop(columns=[\"ID\"])\n",
    "y_test = classifier2.predict(X_test)\n",
    "y_test = pd.DataFrame(y_test)\n",
    "y_test.to_csv(\"submission3.csv\",index=False)"
   ]
  },
  {
   "cell_type": "code",
   "execution_count": 64,
   "metadata": {},
   "outputs": [
    {
     "name": "stdout",
     "output_type": "stream",
     "text": [
      "Accuracy: 0.8262435291469727\n"
     ]
    }
   ],
   "source": [
    "#Random forest classifier\n",
    "classifier1 = RandomForestClassifier(n_estimators = 300)\n",
    "classifier1.fit(X_train, y_train)\n",
    "\n",
    "y_pred1 = classifier1.predict(X_vald)\n",
    "\n",
    "result1 = accuracy_score(y_vald,y_pred1)\n",
    "print(\"Accuracy:\",result1)"
   ]
  },
  {
   "cell_type": "code",
   "execution_count": 93,
   "metadata": {},
   "outputs": [],
   "source": [
    "#submission 1\n",
    "X_test = test.drop(columns=[\"ID\"])\n",
    "y_test = classifier1.predict(X_test)\n",
    "y_test = pd.DataFrame(y_test)\n",
    "y_test.to_csv(\"submission1.csv\",index=False)\n"
   ]
  },
  {
   "cell_type": "code",
   "execution_count": 83,
   "metadata": {},
   "outputs": [],
   "source": [
    "#Random forest classifier 2\n",
    "#estimat = 10 useful best at 300\n",
    "split =10\n",
    "features = 9\n",
    "depth = 4\n",
    "for i in range(2,split):\n",
    "    for j in range(9,features):\n",
    "        for k in range(1,depth):\n",
    "            \n",
    "                classifier1 = RandomForestClassifier(n_estimators =300,\n",
    "                                                     min_samples_split=i,\n",
    "                                                     max_features=j,\n",
    "                                                     max_depth=5*k,\n",
    "                                                     )\n",
    "                classifier1.fit(X_train, y_train)\n",
    "\n",
    "                y_pred1 = classifier1.predict(X_vald)\n",
    "\n",
    "                result1 = accuracy_score(y_vald,y_pred1)\n",
    "                print(i ,j,5*k,\"Accuracy:\",result1)\n"
   ]
  },
  {
   "cell_type": "code",
   "execution_count": 52,
   "metadata": {},
   "outputs": [],
   "source": [
    "                \n",
    "\"\"\"\n",
    "2 5 5 Accuracy: 0.8387913571910871\n",
    "2 5 10 Accuracy: 0.8430677470177808\n",
    "2 5 15 Accuracy: 0.8440243079000675\n",
    "2 6 5 Accuracy: 0.8387913571910871\n",
    "2 6 10 Accuracy: 0.842955210443394\n",
    "2 6 15 Accuracy: 0.8427301372946208\n",
    "2 7 5 Accuracy: 0.8387913571910871\n",
    "2 7 10 Accuracy: 0.8435741616025209\n",
    "2 7 15 Accuracy: 0.8418298446995274\n",
    "2 8 5 Accuracy: 0.8425050641458474\n",
    "2 8 10 Accuracy: 0.8442493810488408\n",
    "2 8 15 Accuracy: 0.8405356740940806\n",
    "\"\"\"\n"
   ]
  },
  {
   "cell_type": "code",
   "execution_count": null,
   "metadata": {},
   "outputs": [],
   "source": []
  },
  {
   "cell_type": "code",
   "execution_count": 53,
   "metadata": {},
   "outputs": [],
   "source": []
  },
  {
   "cell_type": "code",
   "execution_count": null,
   "metadata": {},
   "outputs": [],
   "source": []
  }
 ],
 "metadata": {
  "kernelspec": {
   "display_name": "Python 3",
   "language": "python",
   "name": "python3"
  },
  "language_info": {
   "codemirror_mode": {
    "name": "ipython",
    "version": 3
   },
   "file_extension": ".py",
   "mimetype": "text/x-python",
   "name": "python",
   "nbconvert_exporter": "python",
   "pygments_lexer": "ipython3",
   "version": "3.7.3"
  }
 },
 "nbformat": 4,
 "nbformat_minor": 2
}
