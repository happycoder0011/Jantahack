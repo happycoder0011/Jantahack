{
 "cells": [
  {
   "cell_type": "code",
   "execution_count": 4,
   "metadata": {},
   "outputs": [],
   "source": [
    "import numpy as np\n",
    "import pandas as pd\n",
    "import seaborn as sns\n",
    "from sklearn.metrics import *\n",
    "import matplotlib.pyplot as plt\n",
    "import matplotlib\n",
    "from sklearn.model_selection import train_test_split"
   ]
  },
  {
   "cell_type": "code",
   "execution_count": 5,
   "metadata": {},
   "outputs": [],
   "source": [
    "# Import Classifiers\n",
    "from sklearn.linear_model import LogisticRegression\n",
    "from sklearn.model_selection import GridSearchCV\n",
    "from sklearn.model_selection import RepeatedStratifiedKFold\n",
    "from sklearn.ensemble import RandomForestClassifier\n",
    "from sklearn.linear_model import Perceptron\n",
    "from sklearn.linear_model import SGDClassifier\n",
    "from sklearn.tree import DecisionTreeClassifier\n",
    "from sklearn.neighbors import KNeighborsClassifier\n",
    "from sklearn.svm import SVC, LinearSVC\n",
    "from sklearn.naive_bayes import GaussianNB"
   ]
  },
  {
   "cell_type": "code",
   "execution_count": 10,
   "metadata": {},
   "outputs": [
    {
     "name": "stdout",
     "output_type": "stream",
     "text": [
      "88858 10\n",
      "59310 9\n",
      "          ID  Estimated_Insects_Count  Crop_Type  Soil_Type  \\\n",
      "0  F00000001                      188          1          0   \n",
      "1  F00000003                      209          1          0   \n",
      "2  F00000004                      257          1          0   \n",
      "3  F00000005                      257          1          1   \n",
      "4  F00000006                      342          1          0   \n",
      "5  F00000008                      448          0          1   \n",
      "6  F00000009                      448          0          1   \n",
      "7  F00000010                      577          1          0   \n",
      "8  F00000012                      731          0          0   \n",
      "9  F00000020                     1132          1          0   \n",
      "\n",
      "   Pesticide_Use_Category  Number_Doses_Week  Number_Weeks_Used  \\\n",
      "0                       1                  0                0.0   \n",
      "1                       1                  0                0.0   \n",
      "2                       1                  0                0.0   \n",
      "3                       1                  0                0.0   \n",
      "4                       1                  0                0.0   \n",
      "5                       1                  0                0.0   \n",
      "6                       1                  0                0.0   \n",
      "7                       1                  0                0.0   \n",
      "8                       1                  0                0.0   \n",
      "9                       1                  0                0.0   \n",
      "\n",
      "   Number_Weeks_Quit  Season  Crop_Damage  \n",
      "0                  0       1            0  \n",
      "1                  0       2            1  \n",
      "2                  0       2            1  \n",
      "3                  0       2            1  \n",
      "4                  0       2            1  \n",
      "5                  0       2            1  \n",
      "6                  0       2            1  \n",
      "7                  0       1            2  \n",
      "8                  0       2            0  \n",
      "9                  0       1            2  \n"
     ]
    }
   ],
   "source": [
    "#loading data set\n",
    "test=pd.read_csv(\"./test.csv\")\n",
    "train=pd.read_csv(\"./train.csv\")\n",
    "train_m,train_n=train.shape\n",
    "print(train_m,train_n)\n",
    "train[\"Number_Weeks_Used\"].fillna(0, inplace = True)\n",
    "test[\"Number_Weeks_Used\"].fillna(0, inplace = True)\n",
    "test_m,test_n = test.shape\n",
    "print(test_m,test_n)\n",
    "print(train.head(10))"
   ]
  },
  {
   "cell_type": "code",
   "execution_count": 11,
   "metadata": {},
   "outputs": [
    {
     "name": "stdout",
     "output_type": "stream",
     "text": [
      "0        0\n",
      "1        1\n",
      "2        1\n",
      "3        1\n",
      "4        1\n",
      "        ..\n",
      "88853    0\n",
      "88854    0\n",
      "88855    0\n",
      "88856    0\n",
      "88857    0\n",
      "Name: Crop_Damage, Length: 88858, dtype: int64\n"
     ]
    }
   ],
   "source": [
    "#data preprocessing \n",
    " \n",
    "X = train.drop(columns=[\"ID\",\"Crop_Damage\"])\n",
    "y = train[\"Crop_Damage\"]\n",
    "print(y)"
   ]
  },
  {
   "cell_type": "code",
   "execution_count": 12,
   "metadata": {},
   "outputs": [],
   "source": [
    "X_train, X_vald, y_train, y_vald = train_test_split(X, y, test_size = 0.20)"
   ]
  },
  {
   "cell_type": "code",
   "execution_count": 59,
   "metadata": {},
   "outputs": [],
   "source": [
    "from xgboost import XGBClassifier"
   ]
  },
  {
   "cell_type": "code",
   "execution_count": 60,
   "metadata": {},
   "outputs": [
    {
     "name": "stdout",
     "output_type": "stream",
     "text": [
      "Accuracy: 0.8422237227098807\n"
     ]
    }
   ],
   "source": [
    "#XGboost\n",
    "classifier2 = XGBClassifier(objective =\"multi:softmax\")\n",
    "classifier2.fit(X_train, y_train)\n",
    "\n",
    "y_pred2 = classifier2.predict(X_vald)\n",
    "\n",
    "result2 = accuracy_score(y_vald,y_pred2)\n",
    "print(\"Accuracy:\",result2)\n"
   ]
  },
  {
   "cell_type": "code",
   "execution_count": 61,
   "metadata": {},
   "outputs": [],
   "source": [
    "#submission 2\n",
    "X_test = test.drop(columns=[\"ID\"])\n",
    "y_test = classifier2.predict(X_test)\n",
    "y_test = pd.DataFrame(y_test)\n",
    "y_test.to_csv(\"submission2.csv\",index=False)\n"
   ]
  },
  {
   "cell_type": "code",
   "execution_count": 24,
   "metadata": {},
   "outputs": [
    {
     "name": "stdout",
     "output_type": "stream",
     "text": [
      "Accuracy: 0.8471753319828944\n"
     ]
    }
   ],
   "source": [
    "#XGboost\n",
    "# error= [\"rmse\",\"mae\",\"logloss\",\"error\"]  eval_metric --no use\n",
    "# max_leaf=1000 meax_leaf_nodes=i*100 --no use\n",
    "# depth=10 useful best at 6\n",
    "# gam=10 no use\n",
    "\n",
    "classifier2 = XGBClassifier(max_depth=6)\n",
    "classifier2.fit(X_train, y_train)\n",
    "\n",
    "y_pred2 = classifier2.predict(X_vald)\n",
    "\n",
    "result2 = accuracy_score(y_vald,y_pred2)\n",
    "print(\"Accuracy:\",result2)\n",
    "\n",
    "#Accuracy: 0.8471753319828944"
   ]
  },
  {
   "cell_type": "code",
   "execution_count": 20,
   "metadata": {},
   "outputs": [],
   "source": [
    "#submission 3\n",
    "X_test = test.drop(columns=[\"ID\"])\n",
    "y_test = classifier2.predict(X_test)\n",
    "y_test = pd.DataFrame(y_test)\n",
    "y_test.to_csv(\"submission3.csv\",index=False)"
   ]
  },
  {
   "cell_type": "code",
   "execution_count": 64,
   "metadata": {},
   "outputs": [
    {
     "name": "stdout",
     "output_type": "stream",
     "text": [
      "Accuracy: 0.8262435291469727\n"
     ]
    }
   ],
   "source": [
    "#Random forest classifier\n",
    "classifier1 = RandomForestClassifier(n_estimators = 300)\n",
    "classifier1.fit(X_train, y_train)\n",
    "\n",
    "y_pred1 = classifier1.predict(X_vald)\n",
    "\n",
    "result1 = accuracy_score(y_vald,y_pred1)\n",
    "print(\"Accuracy:\",result1)"
   ]
  },
  {
   "cell_type": "code",
   "execution_count": 93,
   "metadata": {},
   "outputs": [],
   "source": [
    "#submission 1\n",
    "X_test = test.drop(columns=[\"ID\"])\n",
    "y_test = classifier1.predict(X_test)\n",
    "y_test = pd.DataFrame(y_test)\n",
    "y_test.to_csv(\"submission1.csv\",index=False)\n"
   ]
  },
  {
   "cell_type": "code",
   "execution_count": 98,
   "metadata": {},
   "outputs": [
    {
     "name": "stdout",
     "output_type": "stream",
     "text": [
      "Accuracy: 0.8400855277965339\n"
     ]
    }
   ],
   "source": [
    "#Random forest classifier 2\n",
    "#estimat = 10 useful best at 300\n",
    "\n",
    "classifier3 = RandomForestClassifier(n_estimators =300,\n",
    "                                                     min_samples_split=2,\n",
    "                                                     max_features=5,\n",
    "                                                     max_depth=15,\n",
    "                                                     )\n",
    "classifier3.fit(X_train, y_train)\n",
    "y_pred3 = classifier3.predict(X_vald)\n",
    "\n",
    "result3 = accuracy_score(y_vald,y_pred3)\n",
    "print(\"Accuracy:\",result3)\n"
   ]
  },
  {
   "cell_type": "code",
   "execution_count": 99,
   "metadata": {},
   "outputs": [],
   "source": [
    "#submission 4\n",
    "X_test = test.drop(columns=[\"ID\"])\n",
    "y_test = classifier3.predict(X_test)\n",
    "y_test = pd.DataFrame(y_test)\n",
    "y_test.to_csv(\"submission4.csv\",index=False)\n"
   ]
  },
  {
   "cell_type": "code",
   "execution_count": 52,
   "metadata": {},
   "outputs": [],
   "source": [
    "                \n",
    "\"\"\"\n",
    "2 5 5 Accuracy: 0.8387913571910871\n",
    "2 5 10 Accuracy: 0.8430677470177808\n",
    "2 5 15 Accuracy: 0.8440243079000675\n",
    "2 6 5 Accuracy: 0.8387913571910871\n",
    "2 6 10 Accuracy: 0.842955210443394\n",
    "2 6 15 Accuracy: 0.8427301372946208\n",
    "2 7 5 Accuracy: 0.8387913571910871\n",
    "2 7 10 Accuracy: 0.8435741616025209\n",
    "2 7 15 Accuracy: 0.8418298446995274\n",
    "2 8 5 Accuracy: 0.8425050641458474\n",
    "2 8 10 Accuracy: 0.8442493810488408\n",
    "2 8 15 Accuracy: 0.8405356740940806\n",
    "3 5 5 Accuracy: 0.8394665766374072\n",
    "3 5 10 Accuracy: 0.8423925275714608\n",
    "3 5 15 Accuracy: 0.8407607472428539\n",
    "3 6 5 Accuracy: 0.8394665766374072\n",
    "3 6 10 Accuracy: 0.8422237227098807\n",
    "3 6 15 Accuracy: 0.8400292595093405\n",
    "3 7 5 Accuracy: 0.8394665766374072\n",
    "3 7 10 Accuracy: 0.8434616250281342\n",
    "3 7 15 Accuracy: 0.8402543326581139\n",
    "3 8 5 Accuracy: 0.841604771550754\n",
    "3 8 10 Accuracy: 0.842955210443394\n",
    "3 8 15 Accuracy: 0.8392415034886338\n",
    "4 5 5 Accuracy: 0.8394665766374072\n",
    "4 5 10 Accuracy: 0.8418298446995274\n",
    "4 5 15 Accuracy: 0.8409858203916273\n",
    "4 6 5 Accuracy: 0.8394665766374072\n",
    "4 6 10 Accuracy: 0.8421674544226874\n",
    "4 6 15 Accuracy: 0.8411546252532073\n",
    "4 7 5 Accuracy: 0.8394665766374072\n",
    "4 7 10 Accuracy: 0.8422237227098807\n",
    "4 7 15 Accuracy: 0.8399729912221472\n",
    "4 8 5 Accuracy: 0.8417173081251407\n",
    "4 8 10 Accuracy: 0.8433490884537475\n",
    "4 8 15 Accuracy: 0.8404231375196939\n",
    "5 5 5 Accuracy: 0.8394665766374072\n",
    "5 5 10 Accuracy: 0.8427864055818141\n",
    "5 5 15 Accuracy: 0.8416610398379474\n",
    "\"\"\"\n"
   ]
  },
  {
   "cell_type": "code",
   "execution_count": 106,
   "metadata": {},
   "outputs": [
    {
     "name": "stderr",
     "output_type": "stream",
     "text": [
      "C:\\Users\\user\\Anaconda3\\lib\\site-packages\\sklearn\\linear_model\\logistic.py:469: FutureWarning: Default multi_class will be changed to 'auto' in 0.22. Specify the multi_class option to silence this warning.\n",
      "  \"this warning.\", FutureWarning)\n",
      "C:\\Users\\user\\Anaconda3\\lib\\site-packages\\sklearn\\linear_model\\sag.py:337: ConvergenceWarning: The max_iter was reached which means the coef_ did not converge\n",
      "  \"the coef_ did not converge\", ConvergenceWarning)\n"
     ]
    },
    {
     "name": "stdout",
     "output_type": "stream",
     "text": [
      "Best: 0.835434 using {'C': 100, 'penalty': 'l2', 'solver': 'sag'}\n",
      "0.833221 (0.001282) with: {'C': 100, 'penalty': 'none', 'solver': 'newton-cg'}\n",
      "0.835007 (0.001544) with: {'C': 100, 'penalty': 'none', 'solver': 'lbfgs'}\n",
      "0.000000 (0.000000) with: {'C': 100, 'penalty': 'none', 'solver': 'liblinear'}\n",
      "0.835429 (0.001368) with: {'C': 100, 'penalty': 'none', 'solver': 'sag'}\n",
      "0.835261 (0.001759) with: {'C': 100, 'penalty': 'none', 'solver': 'saga'}\n",
      "0.000000 (0.000000) with: {'C': 100, 'penalty': 'l1', 'solver': 'newton-cg'}\n",
      "0.000000 (0.000000) with: {'C': 100, 'penalty': 'l1', 'solver': 'lbfgs'}\n",
      "0.833216 (0.001244) with: {'C': 100, 'penalty': 'l1', 'solver': 'liblinear'}\n",
      "0.000000 (0.000000) with: {'C': 100, 'penalty': 'l1', 'solver': 'sag'}\n",
      "0.835251 (0.001764) with: {'C': 100, 'penalty': 'l1', 'solver': 'saga'}\n",
      "0.833221 (0.001282) with: {'C': 100, 'penalty': 'l2', 'solver': 'newton-cg'}\n",
      "0.834839 (0.001719) with: {'C': 100, 'penalty': 'l2', 'solver': 'lbfgs'}\n",
      "0.833376 (0.001133) with: {'C': 100, 'penalty': 'l2', 'solver': 'liblinear'}\n",
      "0.835434 (0.001367) with: {'C': 100, 'penalty': 'l2', 'solver': 'sag'}\n",
      "0.835256 (0.001765) with: {'C': 100, 'penalty': 'l2', 'solver': 'saga'}\n",
      "0.000000 (0.000000) with: {'C': 100, 'penalty': 'elasticnet', 'solver': 'newton-cg'}\n",
      "0.000000 (0.000000) with: {'C': 100, 'penalty': 'elasticnet', 'solver': 'lbfgs'}\n",
      "0.000000 (0.000000) with: {'C': 100, 'penalty': 'elasticnet', 'solver': 'liblinear'}\n",
      "0.000000 (0.000000) with: {'C': 100, 'penalty': 'elasticnet', 'solver': 'sag'}\n",
      "0.000000 (0.000000) with: {'C': 100, 'penalty': 'elasticnet', 'solver': 'saga'}\n",
      "0.833221 (0.001282) with: {'C': 10, 'penalty': 'none', 'solver': 'newton-cg'}\n",
      "0.835007 (0.001544) with: {'C': 10, 'penalty': 'none', 'solver': 'lbfgs'}\n",
      "0.000000 (0.000000) with: {'C': 10, 'penalty': 'none', 'solver': 'liblinear'}\n",
      "0.835420 (0.001369) with: {'C': 10, 'penalty': 'none', 'solver': 'sag'}\n",
      "0.835261 (0.001759) with: {'C': 10, 'penalty': 'none', 'solver': 'saga'}\n",
      "0.000000 (0.000000) with: {'C': 10, 'penalty': 'l1', 'solver': 'newton-cg'}\n",
      "0.000000 (0.000000) with: {'C': 10, 'penalty': 'l1', 'solver': 'lbfgs'}\n",
      "0.833235 (0.001226) with: {'C': 10, 'penalty': 'l1', 'solver': 'liblinear'}\n",
      "0.000000 (0.000000) with: {'C': 10, 'penalty': 'l1', 'solver': 'sag'}\n",
      "0.835251 (0.001773) with: {'C': 10, 'penalty': 'l1', 'solver': 'saga'}\n",
      "0.833221 (0.001282) with: {'C': 10, 'penalty': 'l2', 'solver': 'newton-cg'}\n",
      "0.834862 (0.001729) with: {'C': 10, 'penalty': 'l2', 'solver': 'lbfgs'}\n",
      "0.833380 (0.001202) with: {'C': 10, 'penalty': 'l2', 'solver': 'liblinear'}\n",
      "0.835406 (0.001374) with: {'C': 10, 'penalty': 'l2', 'solver': 'sag'}\n",
      "0.835256 (0.001767) with: {'C': 10, 'penalty': 'l2', 'solver': 'saga'}\n",
      "0.000000 (0.000000) with: {'C': 10, 'penalty': 'elasticnet', 'solver': 'newton-cg'}\n",
      "0.000000 (0.000000) with: {'C': 10, 'penalty': 'elasticnet', 'solver': 'lbfgs'}\n",
      "0.000000 (0.000000) with: {'C': 10, 'penalty': 'elasticnet', 'solver': 'liblinear'}\n",
      "0.000000 (0.000000) with: {'C': 10, 'penalty': 'elasticnet', 'solver': 'sag'}\n",
      "0.000000 (0.000000) with: {'C': 10, 'penalty': 'elasticnet', 'solver': 'saga'}\n",
      "0.833221 (0.001282) with: {'C': 1.0, 'penalty': 'none', 'solver': 'newton-cg'}\n",
      "0.835007 (0.001544) with: {'C': 1.0, 'penalty': 'none', 'solver': 'lbfgs'}\n",
      "0.000000 (0.000000) with: {'C': 1.0, 'penalty': 'none', 'solver': 'liblinear'}\n",
      "0.835420 (0.001355) with: {'C': 1.0, 'penalty': 'none', 'solver': 'sag'}\n",
      "0.835261 (0.001779) with: {'C': 1.0, 'penalty': 'none', 'solver': 'saga'}\n",
      "0.000000 (0.000000) with: {'C': 1.0, 'penalty': 'l1', 'solver': 'newton-cg'}\n",
      "0.000000 (0.000000) with: {'C': 1.0, 'penalty': 'l1', 'solver': 'lbfgs'}\n",
      "0.833225 (0.001253) with: {'C': 1.0, 'penalty': 'l1', 'solver': 'liblinear'}\n",
      "0.000000 (0.000000) with: {'C': 1.0, 'penalty': 'l1', 'solver': 'sag'}\n",
      "0.835256 (0.001767) with: {'C': 1.0, 'penalty': 'l1', 'solver': 'saga'}\n",
      "0.833216 (0.001280) with: {'C': 1.0, 'penalty': 'l2', 'solver': 'newton-cg'}\n",
      "0.835021 (0.001548) with: {'C': 1.0, 'penalty': 'l2', 'solver': 'lbfgs'}\n",
      "0.833301 (0.001237) with: {'C': 1.0, 'penalty': 'l2', 'solver': 'liblinear'}\n",
      "0.835415 (0.001364) with: {'C': 1.0, 'penalty': 'l2', 'solver': 'sag'}\n",
      "0.835256 (0.001765) with: {'C': 1.0, 'penalty': 'l2', 'solver': 'saga'}\n",
      "0.000000 (0.000000) with: {'C': 1.0, 'penalty': 'elasticnet', 'solver': 'newton-cg'}\n",
      "0.000000 (0.000000) with: {'C': 1.0, 'penalty': 'elasticnet', 'solver': 'lbfgs'}\n",
      "0.000000 (0.000000) with: {'C': 1.0, 'penalty': 'elasticnet', 'solver': 'liblinear'}\n",
      "0.000000 (0.000000) with: {'C': 1.0, 'penalty': 'elasticnet', 'solver': 'sag'}\n",
      "0.000000 (0.000000) with: {'C': 1.0, 'penalty': 'elasticnet', 'solver': 'saga'}\n",
      "0.833221 (0.001282) with: {'C': 0.1, 'penalty': 'none', 'solver': 'newton-cg'}\n",
      "0.835007 (0.001544) with: {'C': 0.1, 'penalty': 'none', 'solver': 'lbfgs'}\n",
      "0.000000 (0.000000) with: {'C': 0.1, 'penalty': 'none', 'solver': 'liblinear'}\n",
      "0.835429 (0.001366) with: {'C': 0.1, 'penalty': 'none', 'solver': 'sag'}\n",
      "0.835261 (0.001779) with: {'C': 0.1, 'penalty': 'none', 'solver': 'saga'}\n",
      "0.000000 (0.000000) with: {'C': 0.1, 'penalty': 'l1', 'solver': 'newton-cg'}\n",
      "0.000000 (0.000000) with: {'C': 0.1, 'penalty': 'l1', 'solver': 'lbfgs'}\n",
      "0.833244 (0.001209) with: {'C': 0.1, 'penalty': 'l1', 'solver': 'liblinear'}\n",
      "0.000000 (0.000000) with: {'C': 0.1, 'penalty': 'l1', 'solver': 'sag'}\n",
      "0.835251 (0.001771) with: {'C': 0.1, 'penalty': 'l1', 'solver': 'saga'}\n",
      "0.833221 (0.001284) with: {'C': 0.1, 'penalty': 'l2', 'solver': 'newton-cg'}\n",
      "0.834759 (0.001694) with: {'C': 0.1, 'penalty': 'l2', 'solver': 'lbfgs'}\n",
      "0.833572 (0.001246) with: {'C': 0.1, 'penalty': 'l2', 'solver': 'liblinear'}\n",
      "0.835420 (0.001358) with: {'C': 0.1, 'penalty': 'l2', 'solver': 'sag'}\n",
      "0.835265 (0.001764) with: {'C': 0.1, 'penalty': 'l2', 'solver': 'saga'}\n",
      "0.000000 (0.000000) with: {'C': 0.1, 'penalty': 'elasticnet', 'solver': 'newton-cg'}\n",
      "0.000000 (0.000000) with: {'C': 0.1, 'penalty': 'elasticnet', 'solver': 'lbfgs'}\n",
      "0.000000 (0.000000) with: {'C': 0.1, 'penalty': 'elasticnet', 'solver': 'liblinear'}\n",
      "0.000000 (0.000000) with: {'C': 0.1, 'penalty': 'elasticnet', 'solver': 'sag'}\n",
      "0.000000 (0.000000) with: {'C': 0.1, 'penalty': 'elasticnet', 'solver': 'saga'}\n",
      "0.833221 (0.001282) with: {'C': 0.01, 'penalty': 'none', 'solver': 'newton-cg'}\n",
      "0.835007 (0.001544) with: {'C': 0.01, 'penalty': 'none', 'solver': 'lbfgs'}\n",
      "0.000000 (0.000000) with: {'C': 0.01, 'penalty': 'none', 'solver': 'liblinear'}\n",
      "0.835425 (0.001359) with: {'C': 0.01, 'penalty': 'none', 'solver': 'sag'}\n",
      "0.835247 (0.001768) with: {'C': 0.01, 'penalty': 'none', 'solver': 'saga'}\n",
      "0.000000 (0.000000) with: {'C': 0.01, 'penalty': 'l1', 'solver': 'newton-cg'}\n",
      "0.000000 (0.000000) with: {'C': 0.01, 'penalty': 'l1', 'solver': 'lbfgs'}\n",
      "0.833830 (0.001150) with: {'C': 0.01, 'penalty': 'l1', 'solver': 'liblinear'}\n",
      "0.000000 (0.000000) with: {'C': 0.01, 'penalty': 'l1', 'solver': 'sag'}\n",
      "0.835270 (0.001735) with: {'C': 0.01, 'penalty': 'l1', 'solver': 'saga'}\n",
      "0.833197 (0.001215) with: {'C': 0.01, 'penalty': 'l2', 'solver': 'newton-cg'}\n",
      "0.834904 (0.001618) with: {'C': 0.01, 'penalty': 'l2', 'solver': 'lbfgs'}\n",
      "0.834613 (0.001123) with: {'C': 0.01, 'penalty': 'l2', 'solver': 'liblinear'}\n",
      "0.835434 (0.001353) with: {'C': 0.01, 'penalty': 'l2', 'solver': 'sag'}\n",
      "0.835256 (0.001764) with: {'C': 0.01, 'penalty': 'l2', 'solver': 'saga'}\n",
      "0.000000 (0.000000) with: {'C': 0.01, 'penalty': 'elasticnet', 'solver': 'newton-cg'}\n",
      "0.000000 (0.000000) with: {'C': 0.01, 'penalty': 'elasticnet', 'solver': 'lbfgs'}\n",
      "0.000000 (0.000000) with: {'C': 0.01, 'penalty': 'elasticnet', 'solver': 'liblinear'}\n",
      "0.000000 (0.000000) with: {'C': 0.01, 'penalty': 'elasticnet', 'solver': 'sag'}\n",
      "0.000000 (0.000000) with: {'C': 0.01, 'penalty': 'elasticnet', 'solver': 'saga'}\n"
     ]
    }
   ],
   "source": [
    "#logistic regression\n",
    "solvers = [\"newton-cg\", \"lbfgs\", \"liblinear\", \"sag\", \"saga\"]\n",
    "penalty = [\"none\", \"l1\", \"l2\", \"elasticnet\"]\n",
    "c_values = [100, 10, 1.0, 0.1, 0.01]\n",
    "\n",
    "model = LogisticRegression()\n",
    "# define grid search\n",
    "grid = dict(solver=solvers,penalty=penalty,C=c_values)\n",
    "cv = RepeatedStratifiedKFold(n_splits=10, n_repeats=3, random_state=1)\n",
    "grid_search = GridSearchCV(estimator=model, param_grid=grid, n_jobs=-1, cv=cv, scoring='accuracy',error_score=0)\n",
    "grid_result = grid_search.fit(X_train, y_train)\n",
    "# summarize results\n",
    "print(\"Best: %f using %s\" % (grid_result.best_score_, grid_result.best_params_))\n",
    "means = grid_result.cv_results_['mean_test_score']\n",
    "stds = grid_result.cv_results_['std_test_score']\n",
    "params = grid_result.cv_results_['params']\n",
    "for mean, stdev, param in zip(means, stds, params):\n",
    "    print(\"%f (%f) with: %r\" % (mean, stdev, param))\n",
    "#Best: 0.835434 using {'C': 100, 'penalty': 'l2', 'solver': 'sag'}"
   ]
  },
  {
   "cell_type": "code",
   "execution_count": null,
   "metadata": {},
   "outputs": [
    {
     "name": "stderr",
     "output_type": "stream",
     "text": [
      "C:\\Users\\user\\Anaconda3\\lib\\site-packages\\sklearn\\model_selection\\_split.py:1978: FutureWarning: The default value of cv will change from 3 to 5 in version 0.22. Specify it explicitly to silence this warning.\n",
      "  warnings.warn(CV_WARNING, FutureWarning)\n",
      "[Parallel(n_jobs=1)]: Using backend SequentialBackend with 1 concurrent workers.\n"
     ]
    },
    {
     "name": "stdout",
     "output_type": "stream",
     "text": [
      "Fitting 3 folds for each of 125 candidates, totalling 375 fits\n",
      "[CV] C=0.1, gamma=1, kernel=linear ...................................\n"
     ]
    }
   ],
   "source": [
    "#SVM\n",
    "# defining parameter range \n",
    "param_grid = {'C': [0.1, 1, 10, 100, 1000],  \n",
    "              'gamma': [1, 0.1, 0.01, 0.001, 0.0001], \n",
    "              'kernel': [\"linear\", \"poly\", \"rbf\", \"sigmoid\", \"precomputed\"]}\n",
    "grid = GridSearchCV(SVC(), param_grid, refit = True, verbose = 3)\n",
    "grid.fit(X_train, y_train) \n",
    "print(grid.best_params_)\n",
    "grid_predictions = grid.predict(X_vald)\n",
    "print(classification_report(y_vald, grid_predictions))"
   ]
  },
  {
   "cell_type": "code",
   "execution_count": 20,
   "metadata": {},
   "outputs": [
    {
     "data": {
      "image/png": "[encoded data removed]",
      "text/plain": [
       "<Figure size 432x288 with 2 Axes>"
      ]
     },
     "metadata": {
      "needs_background": "light"
     },
     "output_type": "display_data"
    }
   ],
   "source": [
    "#heatmap \n",
    "heatmap1_data = pd.pivot_table(train, values=\"Number_Weeks_Used\", \n",
    "                     index=[\"Crop_Damage\"], \n",
    "                     columns=\"Estimated_Insects_Count\")\n",
    "heat_map = sns.heatmap(heatmap1_data)\n",
    "plt.show()"
   ]
  },
  {
   "cell_type": "code",
   "execution_count": null,
   "metadata": {},
   "outputs": [],
   "source": [
    "#correlation matrix\n",
    "corrmatrix = train.corr()\n",
    "sn.heatmap(corrmatrix, annot=True)\n",
    "plt.show()"
   ]
  },
  {
   "cell_type": "code",
   "execution_count": null,
   "metadata": {},
   "outputs": [],
   "source": []
  }
 ],
 "metadata": {
  "kernelspec": {
   "display_name": "Python 3",
   "language": "python",
   "name": "python3"
  },
  "language_info": {
   "codemirror_mode": {
    "name": "ipython",
    "version": 3
   },
   "file_extension": ".py",
   "mimetype": "text/x-python",
   "name": "python",
   "nbconvert_exporter": "python",
   "pygments_lexer": "ipython3",
   "version": "3.7.3"
  }
 },
 "nbformat": 4,
 "nbformat_minor": 2
}
