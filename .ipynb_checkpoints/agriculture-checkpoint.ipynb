{
 "cells": [
  {
   "cell_type": "code",
   "execution_count": 20,
   "metadata": {},
   "outputs": [],
   "source": [
    "import numpy as np\n",
    "import pandas as pd\n",
    "from sklearn.metrics import *\n",
    "import matplotlib.pyplot as plt\n",
    "import matplotlib\n",
    "from sklearn.model_selection import train_test_split"
   ]
  },
  {
   "cell_type": "code",
   "execution_count": 21,
   "metadata": {},
   "outputs": [],
   "source": [
    "# Import Classifiers\n",
    "from sklearn.linear_model import LogisticRegression\n",
    "from sklearn.ensemble import RandomForestClassifier\n",
    "from sklearn.linear_model import Perceptron\n",
    "from sklearn.linear_model import SGDClassifier\n",
    "from sklearn.tree import DecisionTreeClassifier\n",
    "from sklearn.neighbors import KNeighborsClassifier\n",
    "from sklearn.svm import SVC, LinearSVC\n",
    "from sklearn.naive_bayes import GaussianNB"
   ]
  },
  {
   "cell_type": "code",
   "execution_count": 83,
   "metadata": {},
   "outputs": [
    {
     "name": "stdout",
     "output_type": "stream",
     "text": [
      "88858 10\n",
      "59310 9\n",
      "          ID  Estimated_Insects_Count  Crop_Type  Soil_Type  \\\n",
      "0  F00000001                      188          1          0   \n",
      "1  F00000003                      209          1          0   \n",
      "2  F00000004                      257          1          0   \n",
      "3  F00000005                      257          1          1   \n",
      "4  F00000006                      342          1          0   \n",
      "5  F00000008                      448          0          1   \n",
      "6  F00000009                      448          0          1   \n",
      "7  F00000010                      577          1          0   \n",
      "8  F00000012                      731          0          0   \n",
      "9  F00000020                     1132          1          0   \n",
      "\n",
      "   Pesticide_Use_Category  Number_Doses_Week  Number_Weeks_Used  \\\n",
      "0                       1                  0                0.0   \n",
      "1                       1                  0                0.0   \n",
      "2                       1                  0                0.0   \n",
      "3                       1                  0                0.0   \n",
      "4                       1                  0                0.0   \n",
      "5                       1                  0                0.0   \n",
      "6                       1                  0                0.0   \n",
      "7                       1                  0                0.0   \n",
      "8                       1                  0                0.0   \n",
      "9                       1                  0                0.0   \n",
      "\n",
      "   Number_Weeks_Quit  Season  Crop_Damage  \n",
      "0                  0       1            0  \n",
      "1                  0       2            1  \n",
      "2                  0       2            1  \n",
      "3                  0       2            1  \n",
      "4                  0       2            1  \n",
      "5                  0       2            1  \n",
      "6                  0       2            1  \n",
      "7                  0       1            2  \n",
      "8                  0       2            0  \n",
      "9                  0       1            2  \n"
     ]
    }
   ],
   "source": [
    "#loading data set\n",
    "test=pd.read_csv(\"./test.csv\")\n",
    "train=pd.read_csv(\"./train.csv\")\n",
    "train[\"Number_Weeks_Used\"].fillna(0, inplace = True)\n",
    "test[\"Number_Weeks_Used\"].fillna(0, inplace = True)\n",
    "train_m,train_n=train.shape\n",
    "print(train_m,train_n)\n",
    "\n",
    "test_m,test_n = test.shape\n",
    "print(test_m,test_n)\n",
    "print(train.head(10))"
   ]
  },
  {
   "cell_type": "code",
   "execution_count": 84,
   "metadata": {},
   "outputs": [
    {
     "name": "stdout",
     "output_type": "stream",
     "text": [
      "0        0\n",
      "1        1\n",
      "2        1\n",
      "3        1\n",
      "4        1\n",
      "        ..\n",
      "88853    0\n",
      "88854    0\n",
      "88855    0\n",
      "88856    0\n",
      "88857    0\n",
      "Name: Crop_Damage, Length: 88858, dtype: int64\n"
     ]
    }
   ],
   "source": [
    "#data preprocessing \n",
    " \n",
    "X = train.drop(columns=[\"ID\",\"Crop_Damage\"])\n",
    "y = train[\"Crop_Damage\"]\n",
    "print(y)"
   ]
  },
  {
   "cell_type": "code",
   "execution_count": 85,
   "metadata": {},
   "outputs": [],
   "source": [
    "X_train, X_vald, y_train, y_vald = train_test_split(X, y, test_size = 0.20)"
   ]
  },
  {
   "cell_type": "code",
   "execution_count": 86,
   "metadata": {},
   "outputs": [
    {
     "name": "stdout",
     "output_type": "stream",
     "text": [
      "Accuracy: 0.825962187711006\n"
     ]
    }
   ],
   "source": [
    "classifier = RandomForestClassifier(n_estimators = 50)\n",
    "classifier.fit(X_train, y_train)\n",
    "\n",
    "y_pred = classifier.predict(X_vald)\n",
    "\n",
    "result1 = accuracy_score(y_vald,y_pred)\n",
    "print(\"Accuracy:\",result1)"
   ]
  },
  {
   "cell_type": "code",
   "execution_count": 87,
   "metadata": {},
   "outputs": [
    {
     "name": "stdout",
     "output_type": "stream",
     "text": [
      "[1 1 1 ... 1 0 0]\n"
     ]
    }
   ],
   "source": [
    "#submission\n",
    "X_test = test.drop(columns=[\"ID\"])\n",
    "y_test = classifier.predict(X_test)\n",
    "\n",
    "#pd.DataFrame(submission, columns=[]).to_csv('submission1.csv')"
   ]
  },
  {
   "cell_type": "code",
   "execution_count": 81,
   "metadata": {},
   "outputs": [],
   "source": []
  },
  {
   "cell_type": "code",
   "execution_count": null,
   "metadata": {},
   "outputs": [],
   "source": []
  }
 ],
 "metadata": {
  "kernelspec": {
   "display_name": "Python 3",
   "language": "python",
   "name": "python3"
  },
  "language_info": {
   "codemirror_mode": {
    "name": "ipython",
    "version": 3
   },
   "file_extension": ".py",
   "mimetype": "text/x-python",
   "name": "python",
   "nbconvert_exporter": "python",
   "pygments_lexer": "ipython3",
   "version": "3.7.3"
  }
 },
 "nbformat": 4,
 "nbformat_minor": 2
}
